{
 "metadata": {
  "language_info": {
   "codemirror_mode": {
    "name": "ipython",
    "version": 3
   },
   "file_extension": ".py",
   "mimetype": "text/x-python",
   "name": "python",
   "nbconvert_exporter": "python",
   "pygments_lexer": "ipython3",
   "version": "3.7.6-final"
  },
  "orig_nbformat": 2,
  "kernelspec": {
   "name": "python37664bitd090249c0cf5439884290524b93fde75",
   "display_name": "Python 3.7.6 64-bit",
   "language": "python"
  }
 },
 "nbformat": 4,
 "nbformat_minor": 2,
 "cells": [
  {
   "cell_type": "code",
   "execution_count": 1,
   "metadata": {},
   "outputs": [],
   "source": [
    "from data_load import mixture\n",
    "import tensorflow as tf\n",
    "import numpy as np\n",
    "path = '/Users/smaity/projects/mnist-label-shift/MNIST'"
   ]
  },
  {
   "cell_type": "code",
   "execution_count": 2,
   "metadata": {},
   "outputs": [
    {
     "output_type": "execute_result",
     "data": {
      "text/plain": [
       "((12000, 28, 28), (12000,))"
      ]
     },
     "metadata": {},
     "execution_count": 2
    }
   ],
   "source": [
    "x_source, y_source = mixture(12000, 0.9, flatten=False)\n",
    "x_target, y_target = mixture(1000, 0.2, flatten=False)\n",
    "x_source.shape, y_source.shape"
   ]
  },
  {
   "cell_type": "code",
   "execution_count": 3,
   "metadata": {},
   "outputs": [
    {
     "output_type": "stream",
     "name": "stdout",
     "text": [
      "Epoch 1/20\n",
      "375/375 [==============================] - 1s 4ms/step - loss: 4.0128 - accuracy: 0.8884\n",
      "Epoch 2/20\n",
      "375/375 [==============================] - 1s 3ms/step - loss: 0.7888 - accuracy: 0.9227\n",
      "Epoch 3/20\n",
      "375/375 [==============================] - 1s 3ms/step - loss: 0.4457 - accuracy: 0.9358\n",
      "Epoch 4/20\n",
      "375/375 [==============================] - 1s 3ms/step - loss: 0.2834 - accuracy: 0.9478\n",
      "Epoch 5/20\n",
      "375/375 [==============================] - 1s 3ms/step - loss: 0.2051 - accuracy: 0.9531\n",
      "Epoch 6/20\n",
      "375/375 [==============================] - 1s 3ms/step - loss: 0.1837 - accuracy: 0.9572\n",
      "Epoch 7/20\n",
      "375/375 [==============================] - 1s 3ms/step - loss: 0.1259 - accuracy: 0.9656\n",
      "Epoch 8/20\n",
      "375/375 [==============================] - 1s 3ms/step - loss: 0.1067 - accuracy: 0.9706\n",
      "Epoch 9/20\n",
      "375/375 [==============================] - 1s 3ms/step - loss: 0.0939 - accuracy: 0.9708\n",
      "Epoch 10/20\n",
      "375/375 [==============================] - 1s 3ms/step - loss: 0.0866 - accuracy: 0.9758\n",
      "Epoch 11/20\n",
      "375/375 [==============================] - 1s 3ms/step - loss: 0.0735 - accuracy: 0.9789\n",
      "Epoch 12/20\n",
      "375/375 [==============================] - 1s 3ms/step - loss: 0.0841 - accuracy: 0.9774\n",
      "Epoch 13/20\n",
      "375/375 [==============================] - 1s 3ms/step - loss: 0.0738 - accuracy: 0.9783\n",
      "Epoch 14/20\n",
      "375/375 [==============================] - 1s 3ms/step - loss: 0.0549 - accuracy: 0.9818\n",
      "Epoch 15/20\n",
      "375/375 [==============================] - 1s 3ms/step - loss: 0.0528 - accuracy: 0.9830\n",
      "Epoch 16/20\n",
      "375/375 [==============================] - 1s 3ms/step - loss: 0.0597 - accuracy: 0.9817\n",
      "Epoch 17/20\n",
      "375/375 [==============================] - 1s 3ms/step - loss: 0.0470 - accuracy: 0.9862\n",
      "Epoch 18/20\n",
      "375/375 [==============================] - 1s 3ms/step - loss: 0.0461 - accuracy: 0.9865\n",
      "Epoch 19/20\n",
      "375/375 [==============================] - 1s 3ms/step - loss: 0.0466 - accuracy: 0.9867\n",
      "Epoch 20/20\n",
      "375/375 [==============================] - 1s 4ms/step - loss: 0.0271 - accuracy: 0.9912\n"
     ]
    },
    {
     "output_type": "execute_result",
     "data": {
      "text/plain": [
       "<tensorflow.python.keras.callbacks.History at 0x144b31b10>"
      ]
     },
     "metadata": {},
     "execution_count": 3
    }
   ],
   "source": [
    "model = tf.keras.models.Sequential([\n",
    "  tf.keras.layers.Conv1D(3, 2, input_shape=(28, 28)),\n",
    "  tf.keras.layers.Flatten(),\n",
    "  tf.keras.layers.Dense(128, activation='relu'),\n",
    "  tf.keras.layers.Dense(20),\n",
    "  tf.keras.layers.Dense(2)\n",
    "])\n",
    "loss_fn = tf.keras.losses.SparseCategoricalCrossentropy(from_logits=True)\n",
    "model.compile(optimizer='adam', loss=loss_fn, metrics=['accuracy'])\n",
    "model.fit(x_source, y_source, epochs=20)"
   ]
  },
  {
   "cell_type": "code",
   "execution_count": 4,
   "metadata": {},
   "outputs": [
    {
     "output_type": "stream",
     "name": "stdout",
     "text": [
      "32/32 - 0s - loss: 1.0599 - accuracy: 0.8560\n"
     ]
    },
    {
     "output_type": "execute_result",
     "data": {
      "text/plain": [
       "[1.0599126815795898, 0.8560000061988831]"
      ]
     },
     "metadata": {},
     "execution_count": 4
    }
   ],
   "source": [
    "model.evaluate(x_target, y_target, verbose=2)"
   ]
  },
  {
   "cell_type": "code",
   "execution_count": 16,
   "metadata": {},
   "outputs": [
    {
     "output_type": "stream",
     "name": "stdout",
     "text": [
      "[ 0.13651039 -0.13651043]\n[ 3.7200294 -3.7200294]\n"
     ]
    }
   ],
   "source": [
    "w = model.get_weights()\n",
    "bias = np.log(0.2/0.8) - np.log(0.9/0.1)\n",
    "print(w[-1])\n",
    "w[-1][0], w[-1][1] = w[-1][0] - bias, w[-1][1] + bias\n",
    "print(w[-1])"
   ]
  },
  {
   "cell_type": "code",
   "execution_count": 17,
   "metadata": {},
   "outputs": [
    {
     "output_type": "stream",
     "name": "stdout",
     "text": [
      "32/32 - 0s - loss: 0.5624 - accuracy: 0.9240\n"
     ]
    },
    {
     "output_type": "execute_result",
     "data": {
      "text/plain": [
       "[0.5623974204063416, 0.9240000247955322]"
      ]
     },
     "metadata": {},
     "execution_count": 17
    }
   ],
   "source": [
    "model.set_weights(w)\n",
    "model.evaluate(x_target, y_target, verbose=2)"
   ]
  },
  {
   "cell_type": "code",
   "execution_count": 7,
   "metadata": {},
   "outputs": [
    {
     "output_type": "stream",
     "name": "stdout",
     "text": [
      "WARNING:tensorflow:From <ipython-input-7-3515a2e912cf>:1: Sequential.predict_classes (from tensorflow.python.keras.engine.sequential) is deprecated and will be removed after 2021-01-01.\nInstructions for updating:\nPlease use instead:* `np.argmax(model.predict(x), axis=-1)`,   if your model does multi-class classification   (e.g. if it uses a `softmax` last-layer activation).* `(model.predict(x) > 0.5).astype(\"int32\")`,   if your model does binary classification   (e.g. if it uses a `sigmoid` last-layer activation).\n"
     ]
    }
   ],
   "source": [
    "y_predict = model.predict_classes(x_target)"
   ]
  },
  {
   "cell_type": "code",
   "execution_count": 8,
   "metadata": {},
   "outputs": [],
   "source": [
    "from sklearn import metrics\n",
    "m = 12000\n",
    "reg = 0\n",
    "prop_source = 0.9\n",
    "confusion_matrix = metrics.confusion_matrix(model.predict_classes(x_source),y_source, labels=[0,1])/m\n",
    "prop_target = np.mean(model.predict_classes(x_target))\n",
    "    \n",
    "xi = np.array([1-prop_target,prop_target])\n",
    "w = np.matmul(np.linalg.inv(confusion_matrix + reg*np.diag([1, 1])),xi)\n",
    "prop_targets = w*np.array([1-prop_source, prop_source])\n",
    "if prop_targets[0] <0:\n",
    "    prop_targets[0] = 0\n",
    "if prop_targets[1] <0:\n",
    "    prop_targets[1] = 0\n",
    "prop_targets = prop_targets/np.sum(prop_targets)"
   ]
  },
  {
   "cell_type": "code",
   "execution_count": 9,
   "metadata": {},
   "outputs": [
    {
     "output_type": "execute_result",
     "data": {
      "text/plain": [
       "array([0.71632497, 0.28367503])"
      ]
     },
     "metadata": {},
     "execution_count": 9
    }
   ],
   "source": [
    "prop_targets"
   ]
  },
  {
   "cell_type": "code",
   "execution_count": 10,
   "metadata": {},
   "outputs": [
    {
     "output_type": "stream",
     "name": "stdout",
     "text": [
      "Epoch 1/20\n",
      "375/375 [==============================] - 0s 1ms/step - loss: 8.1652 - accuracy: 0.5821\n",
      "Epoch 2/20\n",
      "375/375 [==============================] - 0s 1ms/step - loss: 2.0375 - accuracy: 0.7150\n",
      "Epoch 3/20\n",
      "375/375 [==============================] - 0s 1ms/step - loss: 1.0845 - accuracy: 0.7653\n",
      "Epoch 4/20\n",
      "375/375 [==============================] - 0s 1ms/step - loss: 0.7853 - accuracy: 0.7842\n",
      "Epoch 5/20\n",
      "375/375 [==============================] - 1s 2ms/step - loss: 0.5291 - accuracy: 0.8217\n",
      "Epoch 6/20\n",
      "375/375 [==============================] - 1s 2ms/step - loss: 0.4442 - accuracy: 0.8380\n",
      "Epoch 7/20\n",
      "375/375 [==============================] - 1s 2ms/step - loss: 0.3723 - accuracy: 0.8660\n",
      "Epoch 8/20\n",
      "375/375 [==============================] - 1s 2ms/step - loss: 0.3450 - accuracy: 0.8673\n",
      "Epoch 9/20\n",
      "375/375 [==============================] - 1s 2ms/step - loss: 0.2791 - accuracy: 0.8848\n",
      "Epoch 10/20\n",
      "375/375 [==============================] - 1s 1ms/step - loss: 0.2620 - accuracy: 0.8833\n",
      "Epoch 11/20\n",
      "375/375 [==============================] - 1s 1ms/step - loss: 0.2205 - accuracy: 0.8975\n",
      "Epoch 12/20\n",
      "375/375 [==============================] - 1s 1ms/step - loss: 0.1638 - accuracy: 0.9160\n",
      "Epoch 13/20\n",
      "375/375 [==============================] - 1s 1ms/step - loss: 0.1515 - accuracy: 0.9259\n",
      "Epoch 14/20\n",
      "375/375 [==============================] - 1s 2ms/step - loss: 0.1326 - accuracy: 0.9315\n",
      "Epoch 15/20\n",
      "375/375 [==============================] - 1s 1ms/step - loss: 0.1620 - accuracy: 0.9235\n",
      "Epoch 16/20\n",
      "375/375 [==============================] - 1s 1ms/step - loss: 0.1141 - accuracy: 0.9388\n",
      "Epoch 17/20\n",
      "375/375 [==============================] - 0s 1ms/step - loss: 0.1429 - accuracy: 0.9298\n",
      "Epoch 18/20\n",
      "375/375 [==============================] - 0s 1ms/step - loss: 0.0913 - accuracy: 0.9467\n",
      "Epoch 19/20\n",
      "375/375 [==============================] - 0s 1ms/step - loss: 0.0807 - accuracy: 0.9571\n",
      "Epoch 20/20\n",
      "375/375 [==============================] - 0s 1ms/step - loss: 0.1347 - accuracy: 0.9415\n"
     ]
    },
    {
     "output_type": "execute_result",
     "data": {
      "text/plain": [
       "<tensorflow.python.keras.callbacks.History at 0x1469ef090>"
      ]
     },
     "metadata": {},
     "execution_count": 10
    }
   ],
   "source": [
    "sample_weight_0 = prop_targets[0]/0.1\n",
    "sample_weight_1 = prop_targets[1]/0.9\n",
    "sample_weight = sample_weight_0 * (1-y_source) + sample_weight_1 * y_source\n",
    "\n",
    "\n",
    "model = tf.keras.models.Sequential([\n",
    "  tf.keras.layers.Conv1D(3, 2, input_shape=(28, 28)),\n",
    "  tf.keras.layers.Flatten(),\n",
    "  tf.keras.layers.Dense(128, activation='relu'),\n",
    "  tf.keras.layers.Dense(20),\n",
    "  tf.keras.layers.Dense(2)\n",
    "])\n",
    "loss_fn = tf.keras.losses.SparseCategoricalCrossentropy(from_logits=True)\n",
    "model.compile(optimizer='adam', loss=loss_fn, metrics=['accuracy'])\n",
    "model.fit(x_source, y_source, epochs=20, sample_weight = sample_weight)\n"
   ]
  },
  {
   "cell_type": "code",
   "execution_count": 11,
   "metadata": {},
   "outputs": [
    {
     "output_type": "stream",
     "name": "stdout",
     "text": [
      "32/32 - 0s - loss: 0.7665 - accuracy: 0.8930\n"
     ]
    },
    {
     "output_type": "execute_result",
     "data": {
      "text/plain": [
       "[0.7665160298347473, 0.8930000066757202]"
      ]
     },
     "metadata": {},
     "execution_count": 11
    }
   ],
   "source": [
    "model.evaluate(x_target, y_target, verbose=2)"
   ]
  },
  {
   "cell_type": "code",
   "execution_count": 12,
   "metadata": {},
   "outputs": [
    {
     "output_type": "stream",
     "name": "stdout",
     "text": [
      "Epoch 1/20\n",
      "375/375 [==============================] - 1s 1ms/step - loss: 20.4894 - accuracy: 0.7413\n",
      "Epoch 2/20\n",
      "375/375 [==============================] - 0s 1ms/step - loss: 4.3206 - accuracy: 0.8171\n",
      "Epoch 3/20\n",
      "375/375 [==============================] - 1s 1ms/step - loss: 2.0715 - accuracy: 0.8593\n",
      "Epoch 4/20\n",
      "375/375 [==============================] - 1s 1ms/step - loss: 1.6824 - accuracy: 0.8769\n",
      "Epoch 5/20\n",
      "375/375 [==============================] - 1s 1ms/step - loss: 1.1660 - accuracy: 0.8928\n",
      "Epoch 6/20\n",
      "375/375 [==============================] - 0s 1ms/step - loss: 0.7923 - accuracy: 0.9162\n",
      "Epoch 7/20\n",
      "375/375 [==============================] - 0s 1ms/step - loss: 0.7592 - accuracy: 0.9192\n",
      "Epoch 8/20\n",
      "375/375 [==============================] - 0s 1ms/step - loss: 0.4956 - accuracy: 0.9363\n",
      "Epoch 9/20\n",
      "375/375 [==============================] - 0s 1ms/step - loss: 0.5518 - accuracy: 0.9368\n",
      "Epoch 10/20\n",
      "375/375 [==============================] - 0s 1ms/step - loss: 0.6094 - accuracy: 0.9312\n",
      "Epoch 11/20\n",
      "375/375 [==============================] - 0s 1ms/step - loss: 0.4219 - accuracy: 0.9422\n",
      "Epoch 12/20\n",
      "375/375 [==============================] - 0s 1ms/step - loss: 0.3668 - accuracy: 0.9498\n",
      "Epoch 13/20\n",
      "375/375 [==============================] - 0s 1ms/step - loss: 0.3363 - accuracy: 0.9518\n",
      "Epoch 14/20\n",
      "375/375 [==============================] - 0s 1ms/step - loss: 0.2977 - accuracy: 0.9574\n",
      "Epoch 15/20\n",
      "375/375 [==============================] - 0s 1ms/step - loss: 0.2743 - accuracy: 0.9604\n",
      "Epoch 16/20\n",
      "375/375 [==============================] - 0s 1ms/step - loss: 0.3069 - accuracy: 0.9588\n",
      "Epoch 17/20\n",
      "375/375 [==============================] - 0s 1ms/step - loss: 0.2675 - accuracy: 0.9629\n",
      "Epoch 18/20\n",
      "375/375 [==============================] - 0s 1ms/step - loss: 0.2846 - accuracy: 0.9609\n",
      "Epoch 19/20\n",
      "375/375 [==============================] - 0s 1ms/step - loss: 0.2456 - accuracy: 0.9628\n",
      "Epoch 20/20\n",
      "375/375 [==============================] - 0s 1ms/step - loss: 0.1410 - accuracy: 0.9758\n"
     ]
    },
    {
     "output_type": "execute_result",
     "data": {
      "text/plain": [
       "<tensorflow.python.keras.callbacks.History at 0x1452ffad0>"
      ]
     },
     "metadata": {},
     "execution_count": 12
    }
   ],
   "source": [
    "sample_weight_0 = 1/0.1\n",
    "sample_weight_1 = 1/0.9\n",
    "sample_weight = sample_weight_0 * (1-y_source) + sample_weight_1 * y_source\n",
    "\n",
    "\n",
    "model = tf.keras.models.Sequential([\n",
    "  tf.keras.layers.Conv1D(3, 2, input_shape=(28, 28)),\n",
    "  tf.keras.layers.Flatten(),\n",
    "  tf.keras.layers.Dense(128, activation='relu'),\n",
    "  tf.keras.layers.Dense(20),\n",
    "  tf.keras.layers.Dense(2)\n",
    "])\n",
    "loss_fn = tf.keras.losses.SparseCategoricalCrossentropy(from_logits=True)\n",
    "model.compile(optimizer='adam', loss=loss_fn, metrics=['accuracy'])\n",
    "model.fit(x_source, y_source, epochs=20, sample_weight = sample_weight)"
   ]
  },
  {
   "cell_type": "code",
   "execution_count": 13,
   "metadata": {},
   "outputs": [
    {
     "output_type": "stream",
     "name": "stdout",
     "text": [
      "32/32 - 0s - loss: 1.0555 - accuracy: 0.8600\n"
     ]
    }
   ],
   "source": [
    "m = model.evaluate(x_target, y_target, verbose=2)"
   ]
  },
  {
   "cell_type": "code",
   "execution_count": 14,
   "metadata": {},
   "outputs": [
    {
     "output_type": "execute_result",
     "data": {
      "text/plain": [
       "0.8600000143051147"
      ]
     },
     "metadata": {},
     "execution_count": 14
    }
   ],
   "source": [
    "m[1]"
   ]
  },
  {
   "cell_type": "code",
   "execution_count": 15,
   "metadata": {},
   "outputs": [
    {
     "output_type": "error",
     "ename": "ValueError",
     "evalue": "could not convert string to float: '--ip=127.0.0.1'",
     "traceback": [
      "\u001b[0;31m---------------------------------------------------------------------------\u001b[0m",
      "\u001b[0;31mValueError\u001b[0m                                Traceback (most recent call last)",
      "\u001b[0;32m<ipython-input-15-6092847c6f16>\u001b[0m in \u001b[0;36m<module>\u001b[0;34m\u001b[0m\n\u001b[0;32m----> 1\u001b[0;31m \u001b[0;32mfrom\u001b[0m \u001b[0mmnist_label_shift\u001b[0m \u001b[0;32mimport\u001b[0m \u001b[0mlabel_shift\u001b[0m\u001b[0;34m\u001b[0m\u001b[0;34m\u001b[0m\u001b[0m\n\u001b[0m\u001b[1;32m      2\u001b[0m \u001b[0mlabel_shift\u001b[0m\u001b[0;34m(\u001b[0m\u001b[0;34m)\u001b[0m\u001b[0;34m\u001b[0m\u001b[0;34m\u001b[0m\u001b[0m\n",
      "\u001b[0;32m~/projects/mnist-label-shift/mnist_label_shift.py\u001b[0m in \u001b[0;36m<module>\u001b[0;34m\u001b[0m\n\u001b[1;32m    102\u001b[0m \u001b[0miters\u001b[0m \u001b[0;34m=\u001b[0m \u001b[0mrange\u001b[0m\u001b[0;34m(\u001b[0m\u001b[0;36m20\u001b[0m\u001b[0;34m)\u001b[0m\u001b[0;34m\u001b[0m\u001b[0;34m\u001b[0m\u001b[0m\n\u001b[1;32m    103\u001b[0m \u001b[0ml\u001b[0m \u001b[0;34m=\u001b[0m \u001b[0mlist\u001b[0m\u001b[0;34m(\u001b[0m\u001b[0mitertools\u001b[0m\u001b[0;34m.\u001b[0m\u001b[0mproduct\u001b[0m\u001b[0;34m(\u001b[0m\u001b[0mn_targets\u001b[0m\u001b[0;34m,\u001b[0m \u001b[0mpi_targets\u001b[0m\u001b[0;34m,\u001b[0m \u001b[0miters\u001b[0m\u001b[0;34m)\u001b[0m\u001b[0;34m)\u001b[0m\u001b[0;34m\u001b[0m\u001b[0;34m\u001b[0m\u001b[0m\n\u001b[0;32m--> 104\u001b[0;31m \u001b[0mi\u001b[0m \u001b[0;34m=\u001b[0m \u001b[0mint\u001b[0m\u001b[0;34m(\u001b[0m\u001b[0mfloat\u001b[0m\u001b[0;34m(\u001b[0m\u001b[0msys\u001b[0m\u001b[0;34m.\u001b[0m\u001b[0margv\u001b[0m\u001b[0;34m[\u001b[0m\u001b[0;36m1\u001b[0m\u001b[0;34m]\u001b[0m\u001b[0;34m)\u001b[0m\u001b[0;34m)\u001b[0m\u001b[0;34m\u001b[0m\u001b[0;34m\u001b[0m\u001b[0m\n\u001b[0m\u001b[1;32m    105\u001b[0m \u001b[0mn_target\u001b[0m\u001b[0;34m,\u001b[0m \u001b[0mpi_target\u001b[0m\u001b[0;34m,\u001b[0m \u001b[0miteration\u001b[0m \u001b[0;34m=\u001b[0m \u001b[0ml\u001b[0m\u001b[0;34m[\u001b[0m\u001b[0mi\u001b[0m\u001b[0;34m]\u001b[0m\u001b[0;34m\u001b[0m\u001b[0;34m\u001b[0m\u001b[0m\n\u001b[1;32m    106\u001b[0m \u001b[0mpi_source\u001b[0m \u001b[0;34m=\u001b[0m \u001b[0;36m1\u001b[0m\u001b[0;34m-\u001b[0m\u001b[0mpi_target\u001b[0m\u001b[0;34m\u001b[0m\u001b[0;34m\u001b[0m\u001b[0m\n",
      "\u001b[0;31mValueError\u001b[0m: could not convert string to float: '--ip=127.0.0.1'"
     ]
    }
   ],
   "source": [
    "from mnist_label_shift import label_shift\n",
    "label_shift()"
   ]
  },
  {
   "cell_type": "code",
   "execution_count": 3,
   "metadata": {},
   "outputs": [],
   "source": [
    "import itertools\n",
    "n_targets = [1000, 5000, 10000]\n",
    "pi_targets = [0.05, 0.1, 0.2, 0.4]\n",
    "iters = range(20)\n",
    "l = list(itertools.product(n_targets, pi_targets, iters))"
   ]
  },
  {
   "cell_type": "code",
   "execution_count": 4,
   "metadata": {},
   "outputs": [
    {
     "output_type": "execute_result",
     "data": {
      "text/plain": [
       "[(1000, 0.05, 0),\n",
       " (1000, 0.05, 1),\n",
       " (1000, 0.05, 2),\n",
       " (1000, 0.05, 3),\n",
       " (1000, 0.05, 4),\n",
       " (1000, 0.05, 5),\n",
       " (1000, 0.05, 6),\n",
       " (1000, 0.05, 7),\n",
       " (1000, 0.05, 8),\n",
       " (1000, 0.05, 9),\n",
       " (1000, 0.05, 10),\n",
       " (1000, 0.05, 11),\n",
       " (1000, 0.05, 12),\n",
       " (1000, 0.05, 13),\n",
       " (1000, 0.05, 14),\n",
       " (1000, 0.05, 15),\n",
       " (1000, 0.05, 16),\n",
       " (1000, 0.05, 17),\n",
       " (1000, 0.05, 18),\n",
       " (1000, 0.05, 19),\n",
       " (1000, 0.1, 0),\n",
       " (1000, 0.1, 1),\n",
       " (1000, 0.1, 2),\n",
       " (1000, 0.1, 3),\n",
       " (1000, 0.1, 4),\n",
       " (1000, 0.1, 5),\n",
       " (1000, 0.1, 6),\n",
       " (1000, 0.1, 7),\n",
       " (1000, 0.1, 8),\n",
       " (1000, 0.1, 9),\n",
       " (1000, 0.1, 10),\n",
       " (1000, 0.1, 11),\n",
       " (1000, 0.1, 12),\n",
       " (1000, 0.1, 13),\n",
       " (1000, 0.1, 14),\n",
       " (1000, 0.1, 15),\n",
       " (1000, 0.1, 16),\n",
       " (1000, 0.1, 17),\n",
       " (1000, 0.1, 18),\n",
       " (1000, 0.1, 19),\n",
       " (1000, 0.2, 0),\n",
       " (1000, 0.2, 1),\n",
       " (1000, 0.2, 2),\n",
       " (1000, 0.2, 3),\n",
       " (1000, 0.2, 4),\n",
       " (1000, 0.2, 5),\n",
       " (1000, 0.2, 6),\n",
       " (1000, 0.2, 7),\n",
       " (1000, 0.2, 8),\n",
       " (1000, 0.2, 9),\n",
       " (1000, 0.2, 10),\n",
       " (1000, 0.2, 11),\n",
       " (1000, 0.2, 12),\n",
       " (1000, 0.2, 13),\n",
       " (1000, 0.2, 14),\n",
       " (1000, 0.2, 15),\n",
       " (1000, 0.2, 16),\n",
       " (1000, 0.2, 17),\n",
       " (1000, 0.2, 18),\n",
       " (1000, 0.2, 19),\n",
       " (1000, 0.4, 0),\n",
       " (1000, 0.4, 1),\n",
       " (1000, 0.4, 2),\n",
       " (1000, 0.4, 3),\n",
       " (1000, 0.4, 4),\n",
       " (1000, 0.4, 5),\n",
       " (1000, 0.4, 6),\n",
       " (1000, 0.4, 7),\n",
       " (1000, 0.4, 8),\n",
       " (1000, 0.4, 9),\n",
       " (1000, 0.4, 10),\n",
       " (1000, 0.4, 11),\n",
       " (1000, 0.4, 12),\n",
       " (1000, 0.4, 13),\n",
       " (1000, 0.4, 14),\n",
       " (1000, 0.4, 15),\n",
       " (1000, 0.4, 16),\n",
       " (1000, 0.4, 17),\n",
       " (1000, 0.4, 18),\n",
       " (1000, 0.4, 19),\n",
       " (5000, 0.05, 0),\n",
       " (5000, 0.05, 1),\n",
       " (5000, 0.05, 2),\n",
       " (5000, 0.05, 3),\n",
       " (5000, 0.05, 4),\n",
       " (5000, 0.05, 5),\n",
       " (5000, 0.05, 6),\n",
       " (5000, 0.05, 7),\n",
       " (5000, 0.05, 8),\n",
       " (5000, 0.05, 9),\n",
       " (5000, 0.05, 10),\n",
       " (5000, 0.05, 11),\n",
       " (5000, 0.05, 12),\n",
       " (5000, 0.05, 13),\n",
       " (5000, 0.05, 14),\n",
       " (5000, 0.05, 15),\n",
       " (5000, 0.05, 16),\n",
       " (5000, 0.05, 17),\n",
       " (5000, 0.05, 18),\n",
       " (5000, 0.05, 19),\n",
       " (5000, 0.1, 0),\n",
       " (5000, 0.1, 1),\n",
       " (5000, 0.1, 2),\n",
       " (5000, 0.1, 3),\n",
       " (5000, 0.1, 4),\n",
       " (5000, 0.1, 5),\n",
       " (5000, 0.1, 6),\n",
       " (5000, 0.1, 7),\n",
       " (5000, 0.1, 8),\n",
       " (5000, 0.1, 9),\n",
       " (5000, 0.1, 10),\n",
       " (5000, 0.1, 11),\n",
       " (5000, 0.1, 12),\n",
       " (5000, 0.1, 13),\n",
       " (5000, 0.1, 14),\n",
       " (5000, 0.1, 15),\n",
       " (5000, 0.1, 16),\n",
       " (5000, 0.1, 17),\n",
       " (5000, 0.1, 18),\n",
       " (5000, 0.1, 19),\n",
       " (5000, 0.2, 0),\n",
       " (5000, 0.2, 1),\n",
       " (5000, 0.2, 2),\n",
       " (5000, 0.2, 3),\n",
       " (5000, 0.2, 4),\n",
       " (5000, 0.2, 5),\n",
       " (5000, 0.2, 6),\n",
       " (5000, 0.2, 7),\n",
       " (5000, 0.2, 8),\n",
       " (5000, 0.2, 9),\n",
       " (5000, 0.2, 10),\n",
       " (5000, 0.2, 11),\n",
       " (5000, 0.2, 12),\n",
       " (5000, 0.2, 13),\n",
       " (5000, 0.2, 14),\n",
       " (5000, 0.2, 15),\n",
       " (5000, 0.2, 16),\n",
       " (5000, 0.2, 17),\n",
       " (5000, 0.2, 18),\n",
       " (5000, 0.2, 19),\n",
       " (5000, 0.4, 0),\n",
       " (5000, 0.4, 1),\n",
       " (5000, 0.4, 2),\n",
       " (5000, 0.4, 3),\n",
       " (5000, 0.4, 4),\n",
       " (5000, 0.4, 5),\n",
       " (5000, 0.4, 6),\n",
       " (5000, 0.4, 7),\n",
       " (5000, 0.4, 8),\n",
       " (5000, 0.4, 9),\n",
       " (5000, 0.4, 10),\n",
       " (5000, 0.4, 11),\n",
       " (5000, 0.4, 12),\n",
       " (5000, 0.4, 13),\n",
       " (5000, 0.4, 14),\n",
       " (5000, 0.4, 15),\n",
       " (5000, 0.4, 16),\n",
       " (5000, 0.4, 17),\n",
       " (5000, 0.4, 18),\n",
       " (5000, 0.4, 19),\n",
       " (10000, 0.05, 0),\n",
       " (10000, 0.05, 1),\n",
       " (10000, 0.05, 2),\n",
       " (10000, 0.05, 3),\n",
       " (10000, 0.05, 4),\n",
       " (10000, 0.05, 5),\n",
       " (10000, 0.05, 6),\n",
       " (10000, 0.05, 7),\n",
       " (10000, 0.05, 8),\n",
       " (10000, 0.05, 9),\n",
       " (10000, 0.05, 10),\n",
       " (10000, 0.05, 11),\n",
       " (10000, 0.05, 12),\n",
       " (10000, 0.05, 13),\n",
       " (10000, 0.05, 14),\n",
       " (10000, 0.05, 15),\n",
       " (10000, 0.05, 16),\n",
       " (10000, 0.05, 17),\n",
       " (10000, 0.05, 18),\n",
       " (10000, 0.05, 19),\n",
       " (10000, 0.1, 0),\n",
       " (10000, 0.1, 1),\n",
       " (10000, 0.1, 2),\n",
       " (10000, 0.1, 3),\n",
       " (10000, 0.1, 4),\n",
       " (10000, 0.1, 5),\n",
       " (10000, 0.1, 6),\n",
       " (10000, 0.1, 7),\n",
       " (10000, 0.1, 8),\n",
       " (10000, 0.1, 9),\n",
       " (10000, 0.1, 10),\n",
       " (10000, 0.1, 11),\n",
       " (10000, 0.1, 12),\n",
       " (10000, 0.1, 13),\n",
       " (10000, 0.1, 14),\n",
       " (10000, 0.1, 15),\n",
       " (10000, 0.1, 16),\n",
       " (10000, 0.1, 17),\n",
       " (10000, 0.1, 18),\n",
       " (10000, 0.1, 19),\n",
       " (10000, 0.2, 0),\n",
       " (10000, 0.2, 1),\n",
       " (10000, 0.2, 2),\n",
       " (10000, 0.2, 3),\n",
       " (10000, 0.2, 4),\n",
       " (10000, 0.2, 5),\n",
       " (10000, 0.2, 6),\n",
       " (10000, 0.2, 7),\n",
       " (10000, 0.2, 8),\n",
       " (10000, 0.2, 9),\n",
       " (10000, 0.2, 10),\n",
       " (10000, 0.2, 11),\n",
       " (10000, 0.2, 12),\n",
       " (10000, 0.2, 13),\n",
       " (10000, 0.2, 14),\n",
       " (10000, 0.2, 15),\n",
       " (10000, 0.2, 16),\n",
       " (10000, 0.2, 17),\n",
       " (10000, 0.2, 18),\n",
       " (10000, 0.2, 19),\n",
       " (10000, 0.4, 0),\n",
       " (10000, 0.4, 1),\n",
       " (10000, 0.4, 2),\n",
       " (10000, 0.4, 3),\n",
       " (10000, 0.4, 4),\n",
       " (10000, 0.4, 5),\n",
       " (10000, 0.4, 6),\n",
       " (10000, 0.4, 7),\n",
       " (10000, 0.4, 8),\n",
       " (10000, 0.4, 9),\n",
       " (10000, 0.4, 10),\n",
       " (10000, 0.4, 11),\n",
       " (10000, 0.4, 12),\n",
       " (10000, 0.4, 13),\n",
       " (10000, 0.4, 14),\n",
       " (10000, 0.4, 15),\n",
       " (10000, 0.4, 16),\n",
       " (10000, 0.4, 17),\n",
       " (10000, 0.4, 18),\n",
       " (10000, 0.4, 19)]"
      ]
     },
     "metadata": {},
     "execution_count": 4
    }
   ],
   "source": [
    "l"
   ]
  },
  {
   "cell_type": "code",
   "execution_count": null,
   "metadata": {},
   "outputs": [],
   "source": []
  }
 ]
}