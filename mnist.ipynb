{
 "metadata": {
  "language_info": {
   "codemirror_mode": {
    "name": "ipython",
    "version": 3
   },
   "file_extension": ".py",
   "mimetype": "text/x-python",
   "name": "python",
   "nbconvert_exporter": "python",
   "pygments_lexer": "ipython3",
   "version": "3.7.6-final"
  },
  "orig_nbformat": 2,
  "kernelspec": {
   "name": "python37664bitd090249c0cf5439884290524b93fde75",
   "display_name": "Python 3.7.6 64-bit",
   "language": "python"
  }
 },
 "nbformat": 4,
 "nbformat_minor": 2,
 "cells": [
  {
   "cell_type": "code",
   "execution_count": 1,
   "metadata": {},
   "outputs": [],
   "source": [
    "from data_load import mixture\n",
    "import tensorflow as tf\n",
    "import numpy as np\n",
    "path = '/Users/smaity/projects/mnist-label-shift/MNIST'"
   ]
  },
  {
   "cell_type": "code",
   "execution_count": 2,
   "metadata": {},
   "outputs": [
    {
     "output_type": "execute_result",
     "data": {
      "text/plain": [
       "((12000, 28, 28), (12000,))"
      ]
     },
     "metadata": {},
     "execution_count": 2
    }
   ],
   "source": [
    "x_source, y_source = mixture(12000, 0.9, flatten=False)\n",
    "x_target, y_target = mixture(1000, 0.2, flatten=False)\n",
    "x_source.shape, y_source.shape"
   ]
  },
  {
   "cell_type": "code",
   "execution_count": 3,
   "metadata": {},
   "outputs": [
    {
     "output_type": "stream",
     "name": "stdout",
     "text": [
      "Epoch 1/20\n",
      "375/375 [==============================] - 1s 3ms/step - loss: 4.0238 - accuracy: 0.8888\n",
      "Epoch 2/20\n",
      "375/375 [==============================] - 1s 3ms/step - loss: 0.7613 - accuracy: 0.9281\n",
      "Epoch 3/20\n",
      "375/375 [==============================] - 1s 3ms/step - loss: 0.3656 - accuracy: 0.9455\n",
      "Epoch 4/20\n",
      "375/375 [==============================] - 1s 3ms/step - loss: 0.2103 - accuracy: 0.9550\n",
      "Epoch 5/20\n",
      "375/375 [==============================] - 1s 3ms/step - loss: 0.1665 - accuracy: 0.9606\n",
      "Epoch 6/20\n",
      "375/375 [==============================] - 1s 3ms/step - loss: 0.1236 - accuracy: 0.9656\n",
      "Epoch 7/20\n",
      "375/375 [==============================] - 1s 3ms/step - loss: 0.1211 - accuracy: 0.9659\n",
      "Epoch 8/20\n",
      "375/375 [==============================] - 1s 3ms/step - loss: 0.0849 - accuracy: 0.9747\n",
      "Epoch 9/20\n",
      "375/375 [==============================] - 1s 3ms/step - loss: 0.0729 - accuracy: 0.9783\n",
      "Epoch 10/20\n",
      "375/375 [==============================] - 1s 3ms/step - loss: 0.0702 - accuracy: 0.9775\n",
      "Epoch 11/20\n",
      "375/375 [==============================] - 1s 3ms/step - loss: 0.0637 - accuracy: 0.9806\n",
      "Epoch 12/20\n",
      "375/375 [==============================] - 1s 3ms/step - loss: 0.0603 - accuracy: 0.9823\n",
      "Epoch 13/20\n",
      "375/375 [==============================] - 1s 3ms/step - loss: 0.0473 - accuracy: 0.9843\n",
      "Epoch 14/20\n",
      "375/375 [==============================] - 1s 3ms/step - loss: 0.0525 - accuracy: 0.9840\n",
      "Epoch 15/20\n",
      "375/375 [==============================] - 1s 3ms/step - loss: 0.0542 - accuracy: 0.9851\n",
      "Epoch 16/20\n",
      "375/375 [==============================] - 1s 3ms/step - loss: 0.0350 - accuracy: 0.9893\n",
      "Epoch 17/20\n",
      "375/375 [==============================] - 1s 3ms/step - loss: 0.0419 - accuracy: 0.9868\n",
      "Epoch 18/20\n",
      "375/375 [==============================] - 1s 3ms/step - loss: 0.0336 - accuracy: 0.9898\n",
      "Epoch 19/20\n",
      "375/375 [==============================] - 1s 3ms/step - loss: 0.0227 - accuracy: 0.9927\n",
      "Epoch 20/20\n",
      "375/375 [==============================] - 1s 3ms/step - loss: 0.0404 - accuracy: 0.9898\n"
     ]
    },
    {
     "output_type": "execute_result",
     "data": {
      "text/plain": [
       "<tensorflow.python.keras.callbacks.History at 0x1456774d0>"
      ]
     },
     "metadata": {},
     "execution_count": 3
    }
   ],
   "source": [
    "model = tf.keras.models.Sequential([\n",
    "  tf.keras.layers.Conv1D(3, 2, input_shape=(28, 28)),\n",
    "  tf.keras.layers.Flatten(),\n",
    "  tf.keras.layers.Dense(128, activation='relu'),\n",
    "  tf.keras.layers.Dense(20),\n",
    "  tf.keras.layers.Dense(2)\n",
    "])\n",
    "loss_fn = tf.keras.losses.SparseCategoricalCrossentropy(from_logits=True)\n",
    "model.compile(optimizer='adam', loss=loss_fn, metrics=['accuracy'])\n",
    "model.fit(x_source, y_source, epochs=20)"
   ]
  },
  {
   "cell_type": "code",
   "execution_count": 4,
   "metadata": {},
   "outputs": [
    {
     "output_type": "stream",
     "name": "stdout",
     "text": [
      "32/32 - 0s - loss: 0.9543 - accuracy: 0.8460\n"
     ]
    },
    {
     "output_type": "execute_result",
     "data": {
      "text/plain": [
       "[0.9542704820632935, 0.8460000157356262]"
      ]
     },
     "metadata": {},
     "execution_count": 4
    }
   ],
   "source": [
    "model.evaluate(x_target, y_target, verbose=2)"
   ]
  },
  {
   "cell_type": "code",
   "execution_count": 5,
   "metadata": {},
   "outputs": [
    {
     "output_type": "stream",
     "name": "stdout",
     "text": [
      "WARNING:tensorflow:From <ipython-input-5-3515a2e912cf>:1: Sequential.predict_classes (from tensorflow.python.keras.engine.sequential) is deprecated and will be removed after 2021-01-01.\nInstructions for updating:\nPlease use instead:* `np.argmax(model.predict(x), axis=-1)`,   if your model does multi-class classification   (e.g. if it uses a `softmax` last-layer activation).* `(model.predict(x) > 0.5).astype(\"int32\")`,   if your model does binary classification   (e.g. if it uses a `sigmoid` last-layer activation).\n"
     ]
    }
   ],
   "source": [
    "y_predict = model.predict_classes(x_target)"
   ]
  },
  {
   "cell_type": "code",
   "execution_count": 6,
   "metadata": {},
   "outputs": [],
   "source": [
    "from sklearn import metrics\n",
    "m = 12000\n",
    "reg = 0\n",
    "prop_source = 0.9\n",
    "confusion_matrix = metrics.confusion_matrix(model.predict_classes(x_source),y_source, labels=[0,1])/m\n",
    "prop_target = np.mean(model.predict_classes(x_target))\n",
    "    \n",
    "xi = np.array([1-prop_target,prop_target])\n",
    "w = np.matmul(np.linalg.inv(confusion_matrix + reg*np.diag([1, 1])),xi)\n",
    "prop_targets = w*np.array([1-prop_source, prop_source])\n",
    "if prop_targets[0] <0:\n",
    "    prop_targets[0] = 0\n",
    "if prop_targets[1] <0:\n",
    "    prop_targets[1] = 0\n",
    "prop_targets = prop_targets/np.sum(prop_targets)"
   ]
  },
  {
   "cell_type": "code",
   "execution_count": 7,
   "metadata": {},
   "outputs": [
    {
     "output_type": "execute_result",
     "data": {
      "text/plain": [
       "array([0.67731092, 0.32268908])"
      ]
     },
     "metadata": {},
     "execution_count": 7
    }
   ],
   "source": [
    "prop_targets"
   ]
  },
  {
   "cell_type": "code",
   "execution_count": 8,
   "metadata": {},
   "outputs": [
    {
     "output_type": "stream",
     "name": "stdout",
     "text": [
      "Epoch 1/20\n",
      "375/375 [==============================] - 0s 1ms/step - loss: 9.4257 - accuracy: 0.6656\n",
      "Epoch 2/20\n",
      "375/375 [==============================] - 0s 1ms/step - loss: 2.2766 - accuracy: 0.7797\n",
      "Epoch 3/20\n",
      "375/375 [==============================] - 0s 1ms/step - loss: 1.0326 - accuracy: 0.8269\n",
      "Epoch 4/20\n",
      "375/375 [==============================] - 0s 1ms/step - loss: 0.6629 - accuracy: 0.8606\n",
      "Epoch 5/20\n",
      "375/375 [==============================] - 0s 1ms/step - loss: 0.5728 - accuracy: 0.8674\n",
      "Epoch 6/20\n",
      "375/375 [==============================] - 0s 1ms/step - loss: 0.4340 - accuracy: 0.8827\n",
      "Epoch 7/20\n",
      "375/375 [==============================] - 0s 1ms/step - loss: 0.3701 - accuracy: 0.8884\n",
      "Epoch 8/20\n",
      "375/375 [==============================] - 0s 1ms/step - loss: 0.2384 - accuracy: 0.9116\n",
      "Epoch 9/20\n",
      "375/375 [==============================] - 0s 1ms/step - loss: 0.2152 - accuracy: 0.9204\n",
      "Epoch 10/20\n",
      "375/375 [==============================] - 0s 1ms/step - loss: 0.1732 - accuracy: 0.9281\n",
      "Epoch 11/20\n",
      "375/375 [==============================] - 0s 1ms/step - loss: 0.2334 - accuracy: 0.9200\n",
      "Epoch 12/20\n",
      "375/375 [==============================] - 0s 1ms/step - loss: 0.1541 - accuracy: 0.9395\n",
      "Epoch 13/20\n",
      "375/375 [==============================] - 0s 1ms/step - loss: 0.1618 - accuracy: 0.9360\n",
      "Epoch 14/20\n",
      "375/375 [==============================] - 0s 1ms/step - loss: 0.1371 - accuracy: 0.9418\n",
      "Epoch 15/20\n",
      "375/375 [==============================] - 0s 1ms/step - loss: 0.1349 - accuracy: 0.9417\n",
      "Epoch 16/20\n",
      "375/375 [==============================] - 0s 1ms/step - loss: 0.1257 - accuracy: 0.9475\n",
      "Epoch 17/20\n",
      "375/375 [==============================] - 1s 1ms/step - loss: 0.1028 - accuracy: 0.9537\n",
      "Epoch 18/20\n",
      "375/375 [==============================] - 1s 1ms/step - loss: 0.0948 - accuracy: 0.9596\n",
      "Epoch 19/20\n",
      "375/375 [==============================] - 1s 1ms/step - loss: 0.1117 - accuracy: 0.9555\n",
      "Epoch 20/20\n",
      "375/375 [==============================] - 1s 1ms/step - loss: 0.1203 - accuracy: 0.9487\n"
     ]
    },
    {
     "output_type": "execute_result",
     "data": {
      "text/plain": [
       "<tensorflow.python.keras.callbacks.History at 0x147477410>"
      ]
     },
     "metadata": {},
     "execution_count": 8
    }
   ],
   "source": [
    "sample_weight_0 = prop_targets[0]/0.1\n",
    "sample_weight_1 = prop_targets[1]/0.9\n",
    "sample_weight = sample_weight_0 * (1-y_source) + sample_weight_1 * y_source\n",
    "\n",
    "\n",
    "model = tf.keras.models.Sequential([\n",
    "  tf.keras.layers.Conv1D(3, 2, input_shape=(28, 28)),\n",
    "  tf.keras.layers.Flatten(),\n",
    "  tf.keras.layers.Dense(128, activation='relu'),\n",
    "  tf.keras.layers.Dense(20),\n",
    "  tf.keras.layers.Dense(2)\n",
    "])\n",
    "loss_fn = tf.keras.losses.SparseCategoricalCrossentropy(from_logits=True)\n",
    "model.compile(optimizer='adam', loss=loss_fn, metrics=['accuracy'])\n",
    "model.fit(x_source, y_source, epochs=20, sample_weight = sample_weight)\n"
   ]
  },
  {
   "cell_type": "code",
   "execution_count": 9,
   "metadata": {},
   "outputs": [
    {
     "output_type": "stream",
     "name": "stdout",
     "text": [
      "32/32 - 0s - loss: 0.2875 - accuracy: 0.9330\n"
     ]
    },
    {
     "output_type": "execute_result",
     "data": {
      "text/plain": [
       "[0.2875029742717743, 0.9330000281333923]"
      ]
     },
     "metadata": {},
     "execution_count": 9
    }
   ],
   "source": [
    "model.evaluate(x_target, y_target, verbose=2)"
   ]
  },
  {
   "cell_type": "code",
   "execution_count": 10,
   "metadata": {},
   "outputs": [
    {
     "output_type": "stream",
     "name": "stdout",
     "text": [
      "Epoch 1/20\n",
      "375/375 [==============================] - 1s 2ms/step - loss: 14.0383 - accuracy: 0.7500\n",
      "Epoch 2/20\n",
      "375/375 [==============================] - 1s 1ms/step - loss: 3.6988 - accuracy: 0.8206\n",
      "Epoch 3/20\n",
      "375/375 [==============================] - 1s 1ms/step - loss: 1.6394 - accuracy: 0.8620\n",
      "Epoch 4/20\n",
      "375/375 [==============================] - 0s 1ms/step - loss: 1.1288 - accuracy: 0.8804\n",
      "Epoch 5/20\n",
      "375/375 [==============================] - 0s 1ms/step - loss: 0.6927 - accuracy: 0.9076\n",
      "Epoch 6/20\n",
      "375/375 [==============================] - 0s 1ms/step - loss: 0.5505 - accuracy: 0.9187\n",
      "Epoch 7/20\n",
      "375/375 [==============================] - 0s 1ms/step - loss: 0.4572 - accuracy: 0.9246\n",
      "Epoch 8/20\n",
      "375/375 [==============================] - 0s 1ms/step - loss: 0.4456 - accuracy: 0.9280\n",
      "Epoch 9/20\n",
      "375/375 [==============================] - 0s 1ms/step - loss: 0.3594 - accuracy: 0.9389\n",
      "Epoch 10/20\n",
      "375/375 [==============================] - 0s 1ms/step - loss: 0.2835 - accuracy: 0.9535\n",
      "Epoch 11/20\n",
      "375/375 [==============================] - 0s 1ms/step - loss: 0.3849 - accuracy: 0.9380\n",
      "Epoch 12/20\n",
      "375/375 [==============================] - 0s 1ms/step - loss: 0.2703 - accuracy: 0.9538\n",
      "Epoch 13/20\n",
      "375/375 [==============================] - 1s 1ms/step - loss: 0.2644 - accuracy: 0.9543\n",
      "Epoch 14/20\n",
      "375/375 [==============================] - 0s 1ms/step - loss: 0.2439 - accuracy: 0.9601\n",
      "Epoch 15/20\n",
      "375/375 [==============================] - 1s 1ms/step - loss: 0.2328 - accuracy: 0.9592\n",
      "Epoch 16/20\n",
      "375/375 [==============================] - 0s 1ms/step - loss: 0.1971 - accuracy: 0.9649\n",
      "Epoch 17/20\n",
      "375/375 [==============================] - 0s 1ms/step - loss: 0.1452 - accuracy: 0.9745\n",
      "Epoch 18/20\n",
      "375/375 [==============================] - 0s 989us/step - loss: 0.2165 - accuracy: 0.9645\n",
      "Epoch 19/20\n",
      "375/375 [==============================] - 0s 1ms/step - loss: 0.2107 - accuracy: 0.9622\n",
      "Epoch 20/20\n",
      "375/375 [==============================] - 0s 1ms/step - loss: 0.1985 - accuracy: 0.9673\n"
     ]
    },
    {
     "output_type": "execute_result",
     "data": {
      "text/plain": [
       "<tensorflow.python.keras.callbacks.History at 0x1476cc190>"
      ]
     },
     "metadata": {},
     "execution_count": 10
    }
   ],
   "source": [
    "sample_weight_0 = 1/0.1\n",
    "sample_weight_1 = 1/0.9\n",
    "sample_weight = sample_weight_0 * (1-y_source) + sample_weight_1 * y_source\n",
    "\n",
    "\n",
    "model = tf.keras.models.Sequential([\n",
    "  tf.keras.layers.Conv1D(3, 2, input_shape=(28, 28)),\n",
    "  tf.keras.layers.Flatten(),\n",
    "  tf.keras.layers.Dense(128, activation='relu'),\n",
    "  tf.keras.layers.Dense(20),\n",
    "  tf.keras.layers.Dense(2)\n",
    "])\n",
    "loss_fn = tf.keras.losses.SparseCategoricalCrossentropy(from_logits=True)\n",
    "model.compile(optimizer='adam', loss=loss_fn, metrics=['accuracy'])\n",
    "model.fit(x_source, y_source, epochs=20, sample_weight = sample_weight)"
   ]
  },
  {
   "cell_type": "code",
   "execution_count": 12,
   "metadata": {},
   "outputs": [
    {
     "output_type": "stream",
     "name": "stdout",
     "text": [
      "32/32 - 0s - loss: 0.5239 - accuracy: 0.8960\n"
     ]
    }
   ],
   "source": [
    "m = model.evaluate(x_target, y_target, verbose=2)"
   ]
  },
  {
   "cell_type": "code",
   "execution_count": 14,
   "metadata": {},
   "outputs": [
    {
     "output_type": "execute_result",
     "data": {
      "text/plain": [
       "0.8960000276565552"
      ]
     },
     "metadata": {},
     "execution_count": 14
    }
   ],
   "source": [
    "m[1]"
   ]
  },
  {
   "cell_type": "code",
   "execution_count": 1,
   "metadata": {},
   "outputs": [
    {
     "output_type": "stream",
     "name": "stdout",
     "text": [
      "Epoch 1/5\n",
      "375/375 [==============================] - 1s 3ms/step - loss: 3.0128 - accuracy: 0.8976\n",
      "Epoch 2/5\n",
      "375/375 [==============================] - 1s 3ms/step - loss: 0.5870 - accuracy: 0.9340\n",
      "Epoch 3/5\n",
      "375/375 [==============================] - 1s 3ms/step - loss: 0.2595 - accuracy: 0.9488\n",
      "Epoch 4/5\n",
      "375/375 [==============================] - 1s 3ms/step - loss: 0.1772 - accuracy: 0.9557\n",
      "Epoch 5/5\n",
      "375/375 [==============================] - 1s 3ms/step - loss: 0.1444 - accuracy: 0.9624\n",
      "375/375 - 0s - loss: 0.1071 - accuracy: 0.9693\n",
      "32/32 - 0s - loss: 1.8304 - accuracy: 0.6740\n",
      "Epoch 1/5\n",
      "375/375 [==============================] - 0s 1ms/step - loss: 20.4946 - accuracy: 0.7370\n",
      "Epoch 2/5\n",
      "375/375 [==============================] - 0s 1ms/step - loss: 5.3985 - accuracy: 0.8228\n",
      "Epoch 3/5\n",
      "375/375 [==============================] - 0s 1ms/step - loss: 2.5510 - accuracy: 0.8577\n",
      "Epoch 4/5\n",
      "375/375 [==============================] - 0s 1ms/step - loss: 1.6725 - accuracy: 0.8779\n",
      "Epoch 5/5\n",
      "375/375 [==============================] - 0s 1ms/step - loss: 1.2557 - accuracy: 0.8909\n",
      "375/375 - 0s - loss: 0.5264 - accuracy: 0.9023\n",
      "32/32 - 0s - loss: 1.3273 - accuracy: 0.8130\n",
      "WARNING:tensorflow:From /Users/smaity/projects/mnist-label-shift/mnist_label_shift.py:51: Sequential.predict_classes (from tensorflow.python.keras.engine.sequential) is deprecated and will be removed after 2021-01-01.\n",
      "Instructions for updating:\n",
      "Please use instead:* `np.argmax(model.predict(x), axis=-1)`,   if your model does multi-class classification   (e.g. if it uses a `softmax` last-layer activation).* `(model.predict(x) > 0.5).astype(\"int32\")`,   if your model does binary classification   (e.g. if it uses a `sigmoid` last-layer activation).\n",
      "Epoch 1/5\n",
      "375/375 [==============================] - 1s 1ms/step - loss: 13.1914 - accuracy: 0.5815\n",
      "Epoch 2/5\n",
      "375/375 [==============================] - 0s 1ms/step - loss: 2.9917 - accuracy: 0.7089\n",
      "Epoch 3/5\n",
      "375/375 [==============================] - 1s 1ms/step - loss: 1.6295 - accuracy: 0.7575\n",
      "Epoch 4/5\n",
      "375/375 [==============================] - 0s 1ms/step - loss: 0.9819 - accuracy: 0.7963\n",
      "Epoch 5/5\n",
      "375/375 [==============================] - 1s 1ms/step - loss: 0.8010 - accuracy: 0.8095\n",
      "375/375 - 0s - loss: 0.8394 - accuracy: 0.8863\n",
      "32/32 - 0s - loss: 1.1479 - accuracy: 0.8410\n",
      "Epoch 1/5\n",
      "32/32 [==============================] - 0s 1ms/step - loss: 34.4720 - accuracy: 0.7890\n",
      "Epoch 2/5\n",
      "32/32 [==============================] - 0s 1ms/step - loss: 8.4218 - accuracy: 0.8840\n",
      "Epoch 3/5\n",
      "32/32 [==============================] - 0s 1ms/step - loss: 4.7156 - accuracy: 0.8970\n",
      "Epoch 4/5\n",
      "32/32 [==============================] - 0s 1ms/step - loss: 3.0690 - accuracy: 0.9150\n",
      "Epoch 5/5\n",
      "32/32 [==============================] - 0s 1ms/step - loss: 1.6151 - accuracy: 0.9290\n",
      "32/32 - 0s - loss: 0.7010 - accuracy: 0.9620\n"
     ]
    },
    {
     "output_type": "execute_result",
     "data": {
      "text/plain": [
       "(0.6740000247955322,\n",
       " 0.8130000233650208,\n",
       " 0.8410000205039978,\n",
       " 0.9692500233650208,\n",
       " 0.9023333191871643,\n",
       " 0.8863333463668823,\n",
       " 0.9620000123977661)"
      ]
     },
     "metadata": {},
     "execution_count": 1
    }
   ],
   "source": [
    "from mnist_label_shift import label_shift\n",
    "label_shift()"
   ]
  },
  {
   "cell_type": "code",
   "execution_count": 3,
   "metadata": {},
   "outputs": [],
   "source": [
    "import itertools\n",
    "n_targets = [1000, 5000, 10000]\n",
    "pi_targets = [0.05, 0.1, 0.2, 0.4]\n",
    "iters = range(20)\n",
    "l = list(itertools.product(n_targets, pi_targets, iters))"
   ]
  },
  {
   "cell_type": "code",
   "execution_count": 4,
   "metadata": {},
   "outputs": [
    {
     "output_type": "execute_result",
     "data": {
      "text/plain": [
       "[(1000, 0.05, 0),\n",
       " (1000, 0.05, 1),\n",
       " (1000, 0.05, 2),\n",
       " (1000, 0.05, 3),\n",
       " (1000, 0.05, 4),\n",
       " (1000, 0.05, 5),\n",
       " (1000, 0.05, 6),\n",
       " (1000, 0.05, 7),\n",
       " (1000, 0.05, 8),\n",
       " (1000, 0.05, 9),\n",
       " (1000, 0.05, 10),\n",
       " (1000, 0.05, 11),\n",
       " (1000, 0.05, 12),\n",
       " (1000, 0.05, 13),\n",
       " (1000, 0.05, 14),\n",
       " (1000, 0.05, 15),\n",
       " (1000, 0.05, 16),\n",
       " (1000, 0.05, 17),\n",
       " (1000, 0.05, 18),\n",
       " (1000, 0.05, 19),\n",
       " (1000, 0.1, 0),\n",
       " (1000, 0.1, 1),\n",
       " (1000, 0.1, 2),\n",
       " (1000, 0.1, 3),\n",
       " (1000, 0.1, 4),\n",
       " (1000, 0.1, 5),\n",
       " (1000, 0.1, 6),\n",
       " (1000, 0.1, 7),\n",
       " (1000, 0.1, 8),\n",
       " (1000, 0.1, 9),\n",
       " (1000, 0.1, 10),\n",
       " (1000, 0.1, 11),\n",
       " (1000, 0.1, 12),\n",
       " (1000, 0.1, 13),\n",
       " (1000, 0.1, 14),\n",
       " (1000, 0.1, 15),\n",
       " (1000, 0.1, 16),\n",
       " (1000, 0.1, 17),\n",
       " (1000, 0.1, 18),\n",
       " (1000, 0.1, 19),\n",
       " (1000, 0.2, 0),\n",
       " (1000, 0.2, 1),\n",
       " (1000, 0.2, 2),\n",
       " (1000, 0.2, 3),\n",
       " (1000, 0.2, 4),\n",
       " (1000, 0.2, 5),\n",
       " (1000, 0.2, 6),\n",
       " (1000, 0.2, 7),\n",
       " (1000, 0.2, 8),\n",
       " (1000, 0.2, 9),\n",
       " (1000, 0.2, 10),\n",
       " (1000, 0.2, 11),\n",
       " (1000, 0.2, 12),\n",
       " (1000, 0.2, 13),\n",
       " (1000, 0.2, 14),\n",
       " (1000, 0.2, 15),\n",
       " (1000, 0.2, 16),\n",
       " (1000, 0.2, 17),\n",
       " (1000, 0.2, 18),\n",
       " (1000, 0.2, 19),\n",
       " (1000, 0.4, 0),\n",
       " (1000, 0.4, 1),\n",
       " (1000, 0.4, 2),\n",
       " (1000, 0.4, 3),\n",
       " (1000, 0.4, 4),\n",
       " (1000, 0.4, 5),\n",
       " (1000, 0.4, 6),\n",
       " (1000, 0.4, 7),\n",
       " (1000, 0.4, 8),\n",
       " (1000, 0.4, 9),\n",
       " (1000, 0.4, 10),\n",
       " (1000, 0.4, 11),\n",
       " (1000, 0.4, 12),\n",
       " (1000, 0.4, 13),\n",
       " (1000, 0.4, 14),\n",
       " (1000, 0.4, 15),\n",
       " (1000, 0.4, 16),\n",
       " (1000, 0.4, 17),\n",
       " (1000, 0.4, 18),\n",
       " (1000, 0.4, 19),\n",
       " (5000, 0.05, 0),\n",
       " (5000, 0.05, 1),\n",
       " (5000, 0.05, 2),\n",
       " (5000, 0.05, 3),\n",
       " (5000, 0.05, 4),\n",
       " (5000, 0.05, 5),\n",
       " (5000, 0.05, 6),\n",
       " (5000, 0.05, 7),\n",
       " (5000, 0.05, 8),\n",
       " (5000, 0.05, 9),\n",
       " (5000, 0.05, 10),\n",
       " (5000, 0.05, 11),\n",
       " (5000, 0.05, 12),\n",
       " (5000, 0.05, 13),\n",
       " (5000, 0.05, 14),\n",
       " (5000, 0.05, 15),\n",
       " (5000, 0.05, 16),\n",
       " (5000, 0.05, 17),\n",
       " (5000, 0.05, 18),\n",
       " (5000, 0.05, 19),\n",
       " (5000, 0.1, 0),\n",
       " (5000, 0.1, 1),\n",
       " (5000, 0.1, 2),\n",
       " (5000, 0.1, 3),\n",
       " (5000, 0.1, 4),\n",
       " (5000, 0.1, 5),\n",
       " (5000, 0.1, 6),\n",
       " (5000, 0.1, 7),\n",
       " (5000, 0.1, 8),\n",
       " (5000, 0.1, 9),\n",
       " (5000, 0.1, 10),\n",
       " (5000, 0.1, 11),\n",
       " (5000, 0.1, 12),\n",
       " (5000, 0.1, 13),\n",
       " (5000, 0.1, 14),\n",
       " (5000, 0.1, 15),\n",
       " (5000, 0.1, 16),\n",
       " (5000, 0.1, 17),\n",
       " (5000, 0.1, 18),\n",
       " (5000, 0.1, 19),\n",
       " (5000, 0.2, 0),\n",
       " (5000, 0.2, 1),\n",
       " (5000, 0.2, 2),\n",
       " (5000, 0.2, 3),\n",
       " (5000, 0.2, 4),\n",
       " (5000, 0.2, 5),\n",
       " (5000, 0.2, 6),\n",
       " (5000, 0.2, 7),\n",
       " (5000, 0.2, 8),\n",
       " (5000, 0.2, 9),\n",
       " (5000, 0.2, 10),\n",
       " (5000, 0.2, 11),\n",
       " (5000, 0.2, 12),\n",
       " (5000, 0.2, 13),\n",
       " (5000, 0.2, 14),\n",
       " (5000, 0.2, 15),\n",
       " (5000, 0.2, 16),\n",
       " (5000, 0.2, 17),\n",
       " (5000, 0.2, 18),\n",
       " (5000, 0.2, 19),\n",
       " (5000, 0.4, 0),\n",
       " (5000, 0.4, 1),\n",
       " (5000, 0.4, 2),\n",
       " (5000, 0.4, 3),\n",
       " (5000, 0.4, 4),\n",
       " (5000, 0.4, 5),\n",
       " (5000, 0.4, 6),\n",
       " (5000, 0.4, 7),\n",
       " (5000, 0.4, 8),\n",
       " (5000, 0.4, 9),\n",
       " (5000, 0.4, 10),\n",
       " (5000, 0.4, 11),\n",
       " (5000, 0.4, 12),\n",
       " (5000, 0.4, 13),\n",
       " (5000, 0.4, 14),\n",
       " (5000, 0.4, 15),\n",
       " (5000, 0.4, 16),\n",
       " (5000, 0.4, 17),\n",
       " (5000, 0.4, 18),\n",
       " (5000, 0.4, 19),\n",
       " (10000, 0.05, 0),\n",
       " (10000, 0.05, 1),\n",
       " (10000, 0.05, 2),\n",
       " (10000, 0.05, 3),\n",
       " (10000, 0.05, 4),\n",
       " (10000, 0.05, 5),\n",
       " (10000, 0.05, 6),\n",
       " (10000, 0.05, 7),\n",
       " (10000, 0.05, 8),\n",
       " (10000, 0.05, 9),\n",
       " (10000, 0.05, 10),\n",
       " (10000, 0.05, 11),\n",
       " (10000, 0.05, 12),\n",
       " (10000, 0.05, 13),\n",
       " (10000, 0.05, 14),\n",
       " (10000, 0.05, 15),\n",
       " (10000, 0.05, 16),\n",
       " (10000, 0.05, 17),\n",
       " (10000, 0.05, 18),\n",
       " (10000, 0.05, 19),\n",
       " (10000, 0.1, 0),\n",
       " (10000, 0.1, 1),\n",
       " (10000, 0.1, 2),\n",
       " (10000, 0.1, 3),\n",
       " (10000, 0.1, 4),\n",
       " (10000, 0.1, 5),\n",
       " (10000, 0.1, 6),\n",
       " (10000, 0.1, 7),\n",
       " (10000, 0.1, 8),\n",
       " (10000, 0.1, 9),\n",
       " (10000, 0.1, 10),\n",
       " (10000, 0.1, 11),\n",
       " (10000, 0.1, 12),\n",
       " (10000, 0.1, 13),\n",
       " (10000, 0.1, 14),\n",
       " (10000, 0.1, 15),\n",
       " (10000, 0.1, 16),\n",
       " (10000, 0.1, 17),\n",
       " (10000, 0.1, 18),\n",
       " (10000, 0.1, 19),\n",
       " (10000, 0.2, 0),\n",
       " (10000, 0.2, 1),\n",
       " (10000, 0.2, 2),\n",
       " (10000, 0.2, 3),\n",
       " (10000, 0.2, 4),\n",
       " (10000, 0.2, 5),\n",
       " (10000, 0.2, 6),\n",
       " (10000, 0.2, 7),\n",
       " (10000, 0.2, 8),\n",
       " (10000, 0.2, 9),\n",
       " (10000, 0.2, 10),\n",
       " (10000, 0.2, 11),\n",
       " (10000, 0.2, 12),\n",
       " (10000, 0.2, 13),\n",
       " (10000, 0.2, 14),\n",
       " (10000, 0.2, 15),\n",
       " (10000, 0.2, 16),\n",
       " (10000, 0.2, 17),\n",
       " (10000, 0.2, 18),\n",
       " (10000, 0.2, 19),\n",
       " (10000, 0.4, 0),\n",
       " (10000, 0.4, 1),\n",
       " (10000, 0.4, 2),\n",
       " (10000, 0.4, 3),\n",
       " (10000, 0.4, 4),\n",
       " (10000, 0.4, 5),\n",
       " (10000, 0.4, 6),\n",
       " (10000, 0.4, 7),\n",
       " (10000, 0.4, 8),\n",
       " (10000, 0.4, 9),\n",
       " (10000, 0.4, 10),\n",
       " (10000, 0.4, 11),\n",
       " (10000, 0.4, 12),\n",
       " (10000, 0.4, 13),\n",
       " (10000, 0.4, 14),\n",
       " (10000, 0.4, 15),\n",
       " (10000, 0.4, 16),\n",
       " (10000, 0.4, 17),\n",
       " (10000, 0.4, 18),\n",
       " (10000, 0.4, 19)]"
      ]
     },
     "metadata": {},
     "execution_count": 4
    }
   ],
   "source": [
    "l"
   ]
  },
  {
   "cell_type": "code",
   "execution_count": null,
   "metadata": {},
   "outputs": [],
   "source": []
  }
 ]
}